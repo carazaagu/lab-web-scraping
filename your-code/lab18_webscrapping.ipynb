{
 "cells": [
  {
   "cell_type": "markdown",
   "metadata": {},
   "source": [
    "# Web Scraping Lab\n",
    "\n",
    "You will find in this notebook some scrapy exercises to practise your scraping skills.\n",
    "\n",
    "**Tips:**\n",
    "\n",
    "- Check the response status code for each request to ensure you have obtained the intended contennt.\n",
    "- Print the response text in each request to understand the kind of info you are getting and its format.\n",
    "- Check for patterns in the response text to extract the data/info requested in each question.\n",
    "- Visit each url and take a look at its source through Chrome DevTools. You'll need to identify the html tags, special class names etc. used for the html content you are expected to extract."
   ]
  },
  {
   "cell_type": "markdown",
   "metadata": {},
   "source": [
    "- [Requests library](http://docs.python-requests.org/en/master/#the-user-guide) documentation \n",
    "- [Beautiful Soup Doc](https://www.crummy.com/software/BeautifulSoup/bs4/doc/)\n",
    "- [Urllib](https://docs.python.org/3/library/urllib.html#module-urllib)\n",
    "- [re lib](https://docs.python.org/3/library/re.html)\n",
    "- [lxml lib](https://lxml.de/)\n",
    "- [Scrapy](https://scrapy.org/)\n",
    "- [List of HTTP status codes](https://en.wikipedia.org/wiki/List_of_HTTP_status_codes)\n",
    "- [HTML basics](http://www.simplehtmlguide.com/cheatsheet.php)\n",
    "- [CSS basics](https://www.cssbasics.com/#page_start)"
   ]
  },
  {
   "cell_type": "markdown",
   "metadata": {},
   "source": [
    "#### Below are the libraries and modules you may need. `requests`,  `BeautifulSoup` and `pandas` are imported for you. If you prefer to use additional libraries feel free to uncomment them."
   ]
  },
  {
   "cell_type": "code",
   "execution_count": 38,
   "metadata": {
    "collapsed": true
   },
   "outputs": [],
   "source": [
    "import requests\n",
    "from bs4 import BeautifulSoup\n",
    "import pandas as pd\n",
    "from selenium import webdriver\n",
    "# from pprint import pprint\n",
    "# from lxml import html\n",
    "# from lxml.html import fromstring\n",
    "# import urllib.request\n",
    "# from urllib.request import urlopen\n",
    "# import random\n",
    "# import re\n",
    "# import scrapy"
   ]
  },
  {
   "cell_type": "markdown",
   "metadata": {},
   "source": [
    "#### Download, parse (using BeautifulSoup), and print the content from the Trending Developers page from GitHub:"
   ]
  },
  {
   "cell_type": "code",
   "execution_count": 2,
   "metadata": {
    "collapsed": true
   },
   "outputs": [],
   "source": [
    "# This is the url you will scrape in this exercise\n",
    "url = 'https://github.com/trending/developers'"
   ]
  },
  {
   "cell_type": "code",
   "execution_count": 3,
   "metadata": {
    "collapsed": true
   },
   "outputs": [
    {
     "output_type": "execute_result",
     "data": {
      "text/plain": [
       "200"
      ]
     },
     "metadata": {},
     "execution_count": 3
    }
   ],
   "source": [
    "# requests.get to scrap the HTML\n",
    "resp = requests.get(url)\n",
    "\n",
    "# Check the response status\n",
    "resp.status_code"
   ]
  },
  {
   "cell_type": "code",
   "execution_count": 4,
   "metadata": {},
   "outputs": [],
   "source": [
    "# Obtain the text from the HTML and parse with BeautifulSoup\n",
    "html = resp.text\n",
    "soup = BeautifulSoup(html, 'html.parser')"
   ]
  },
  {
   "cell_type": "markdown",
   "metadata": {},
   "source": [
    "#### Display the names of the trending developers retrieved in the previous step.\n",
    "\n",
    "Your output should be a Python list of developer names. Each name should not contain any html tag.\n",
    "\n",
    "**Instructions:**\n",
    "\n",
    "1. Find out the html tag and class names used for the developer names. You can achieve this using Chrome DevTools.\n",
    "\n",
    "1. Use BeautifulSoup to extract all the html elements that contain the developer names.\n",
    "\n",
    "1. Use string manipulation techniques to replace whitespaces and linebreaks (i.e. `\\n`) in the *text* of each html element. Use a list to store the clean names.\n",
    "\n",
    "1. Print the list of names.\n",
    "\n",
    "Your output should look like below:\n",
    "\n",
    "```\n",
    "['trimstray (@trimstray)',\n",
    " 'joewalnes (JoeWalnes)',\n",
    " 'charlax (Charles-AxelDein)',\n",
    " 'ForrestKnight (ForrestKnight)',\n",
    " 'revery-ui (revery-ui)',\n",
    " 'alibaba (Alibaba)',\n",
    " 'Microsoft (Microsoft)',\n",
    " 'github (GitHub)',\n",
    " 'facebook (Facebook)',\n",
    " 'boazsegev (Bo)',\n",
    " 'google (Google)',\n",
    " 'cloudfetch',\n",
    " 'sindresorhus (SindreSorhus)',\n",
    " 'tensorflow',\n",
    " 'apache (TheApacheSoftwareFoundation)',\n",
    " 'DevonCrawford (DevonCrawford)',\n",
    " 'ARMmbed (ArmMbed)',\n",
    " 'vuejs (vuejs)',\n",
    " 'fastai (fast.ai)',\n",
    " 'QiShaoXuan (Qi)',\n",
    " 'joelparkerhenderson (JoelParkerHenderson)',\n",
    " 'torvalds (LinusTorvalds)',\n",
    " 'CyC2018',\n",
    " 'komeiji-satori (神楽坂覚々)',\n",
    " 'script-8']\n",
    " ```"
   ]
  },
  {
   "cell_type": "code",
   "execution_count": 5,
   "metadata": {
    "collapsed": true
   },
   "outputs": [],
   "source": [
    "# Obtain a list of HTML elements that contains the names of the developers\n",
    "dev = soup.findAll('div', attrs={'class':'col-md-6'})\n",
    "\n",
    "# Loop the list and obtain the name of each developer and strip the text and append to an empty list. I need to filter with an if statement to obtain only some kind of class:col-md-6\n",
    "developers=[]\n",
    "for i in dev:\n",
    "    if i.find('h1', attrs={'class': 'h3 lh-condensed'}):\n",
    "        developers.append(i.text.strip().split('\\n \\n')[0] + ' ' + '(' + i.text.strip().split('\\n \\n')[1].strip()+ ')')"
   ]
  },
  {
   "cell_type": "code",
   "execution_count": 6,
   "metadata": {},
   "outputs": [
    {
     "output_type": "execute_result",
     "data": {
      "text/plain": [
       "['Michael Lynch (mtlynch)',\n",
       " 'Mike Penz (mikepenz)',\n",
       " 'van Hauser (vanhauser-thc)',\n",
       " 'Tobias Koppers (sokra)',\n",
       " 'Bastian Köcher (bkchr)',\n",
       " 'Tom Kerkhove (tomkerkhove)',\n",
       " 'Jonatan Kłosko (jonatanklosko)',\n",
       " 'Tanner Linsley (tannerlinsley)',\n",
       " 'Will (willscott)',\n",
       " 'Robert Mosolgo (rmosolgo)',\n",
       " 'Evan Wallace (evanw)',\n",
       " 'An Tao (an-tao)',\n",
       " 'Hajime Hoshi (hajimehoshi)',\n",
       " 'Robin Malfait (RobinMalfait)',\n",
       " 'Thibault Duplessis (ornicar)',\n",
       " 'Brandon Bayer (flybayer)',\n",
       " 'Jef LeCompte (jef)',\n",
       " 'GO Sueyoshi (sue445)',\n",
       " 'Brad Fitzpatrick (bradfitz)',\n",
       " 'Dustin L. Howett (DHowett)',\n",
       " 'Frost Ming (frostming)',\n",
       " 'Mike McQuaid (MikeMcQuaid)',\n",
       " 'David Peter (sharkdp)',\n",
       " 'Christian Bromann (christian-bromann)',\n",
       " 'Andrew Gallant (BurntSushi)']"
      ]
     },
     "metadata": {},
     "execution_count": 6
    }
   ],
   "source": [
    "# Check the list obtained\n",
    "developers"
   ]
  },
  {
   "cell_type": "markdown",
   "metadata": {},
   "source": [
    "#### Display the trending Python repositories in GitHub\n",
    "\n",
    "The steps to solve this problem is similar to the previous one except that you need to find out the repository names instead of developer names."
   ]
  },
  {
   "cell_type": "code",
   "execution_count": 7,
   "metadata": {
    "collapsed": true
   },
   "outputs": [],
   "source": [
    "# This is the url you will scrape in this exercise\n",
    "url = 'https://github.com/trending/python?since=daily'"
   ]
  },
  {
   "cell_type": "code",
   "execution_count": 8,
   "metadata": {
    "collapsed": true
   },
   "outputs": [
    {
     "output_type": "execute_result",
     "data": {
      "text/plain": [
       "200"
      ]
     },
     "metadata": {},
     "execution_count": 8
    }
   ],
   "source": [
    "# requests.get to scrap the HTML\n",
    "resp = requests.get(url)\n",
    "\n",
    "# Check the response status\n",
    "resp.status_code"
   ]
  },
  {
   "cell_type": "code",
   "execution_count": 9,
   "metadata": {},
   "outputs": [],
   "source": [
    "# Obtain the text from the HTML and parse with BeautifulSoup\n",
    "html = resp.text\n",
    "soup = BeautifulSoup(html, 'html.parser')"
   ]
  },
  {
   "cell_type": "code",
   "execution_count": 10,
   "metadata": {},
   "outputs": [],
   "source": [
    "# Obtain a list of HTML elements that contains the names of the repositories\n",
    "repos = soup.findAll('h1', attrs={'class':'h3 lh-condensed'})\n",
    "\n",
    "# Loop the list and obtain the names of each repository and strip the text and append to an empty list\n",
    "repositories=[]\n",
    "for i in repos:\n",
    "    repositories.append(i.text.split('/')[0].strip() + ' ' + '(' + i.text.split('/')[1].strip() + ')')"
   ]
  },
  {
   "cell_type": "code",
   "execution_count": 11,
   "metadata": {
    "tags": []
   },
   "outputs": [
    {
     "output_type": "execute_result",
     "data": {
      "text/plain": [
       "['Chia-Network (chia-blockchain)',\n",
       " 'd2l-ai (d2l-zh)',\n",
       " 'microsoft (Swin-Transformer)',\n",
       " 'huggingface (transformers)',\n",
       " 'apache (tvm)',\n",
       " 'bes-dev (MobileStyleGAN.pytorch)',\n",
       " 'ansible (awx)',\n",
       " 'deepset-ai (haystack)',\n",
       " 'confluentinc (confluent-kafka-python)',\n",
       " 'awslabs (aws-cloudformation-templates)',\n",
       " 'Shawn-Shan (fawkes)',\n",
       " 'AlexxIT (WebRTC)',\n",
       " 'soimort (you-get)',\n",
       " 'Forescout (project-memoria-detector)',\n",
       " 'deepmind (distrax)',\n",
       " 'mtlynch (tinypilot)',\n",
       " 'PaddlePaddle (PaddleOCR)',\n",
       " 'PyTorchLightning (pytorch-lightning)',\n",
       " 'coqui-ai (TTS)',\n",
       " 'PaddlePaddle (PaddleGAN)',\n",
       " 'devicons (devicon)',\n",
       " 'blakeblackshear (frigate)',\n",
       " 'lyhue1991 (eat_tensorflow2_in_30_days)',\n",
       " 'jazzband (django-debug-toolbar)',\n",
       " 'ultralytics (yolov5)']"
      ]
     },
     "metadata": {},
     "execution_count": 11
    }
   ],
   "source": [
    "# Check the list obtained\n",
    "repositories"
   ]
  },
  {
   "cell_type": "markdown",
   "metadata": {},
   "source": [
    "#### Display all the image links from Walt Disney wikipedia page"
   ]
  },
  {
   "cell_type": "code",
   "execution_count": 12,
   "metadata": {
    "collapsed": true
   },
   "outputs": [],
   "source": [
    "# This is the url you will scrape in this exercise\n",
    "url = 'https://en.wikipedia.org/wiki/Walt_Disney'"
   ]
  },
  {
   "cell_type": "code",
   "execution_count": 13,
   "metadata": {},
   "outputs": [
    {
     "output_type": "execute_result",
     "data": {
      "text/plain": [
       "200"
      ]
     },
     "metadata": {},
     "execution_count": 13
    }
   ],
   "source": [
    "# requests.get to scrap the HTML\n",
    "resp = requests.get(url)\n",
    "\n",
    "# Check the response status\n",
    "resp.status_code"
   ]
  },
  {
   "cell_type": "code",
   "execution_count": 14,
   "metadata": {},
   "outputs": [],
   "source": [
    "# Obtain the text from the HTML and parse with BeautifulSoup\n",
    "html = resp.text\n",
    "soup = BeautifulSoup(html, 'html.parser')"
   ]
  },
  {
   "cell_type": "code",
   "execution_count": 15,
   "metadata": {
    "collapsed": true
   },
   "outputs": [],
   "source": [
    "# Obtain a list of HTML elements that contains the images of the url\n",
    "images = soup.findAll('img')\n",
    "\n",
    "# Loop the list and obtain the url of each image (which has the attribute src) and extend to an empty list\n",
    "images_url=[]\n",
    "for i in images:\n",
    "    images_url.extend(i.get_attribute_list('src'))"
   ]
  },
  {
   "cell_type": "code",
   "execution_count": 16,
   "metadata": {},
   "outputs": [
    {
     "output_type": "execute_result",
     "data": {
      "text/plain": [
       "['//upload.wikimedia.org/wikipedia/en/thumb/e/e7/Cscr-featured.svg/20px-Cscr-featured.svg.png',\n",
       " '//upload.wikimedia.org/wikipedia/en/thumb/8/8c/Extended-protection-shackle.svg/20px-Extended-protection-shackle.svg.png',\n",
       " '//upload.wikimedia.org/wikipedia/commons/thumb/d/df/Walt_Disney_1946.JPG/220px-Walt_Disney_1946.JPG',\n",
       " '//upload.wikimedia.org/wikipedia/commons/thumb/8/87/Walt_Disney_1942_signature.svg/150px-Walt_Disney_1942_signature.svg.png',\n",
       " '//upload.wikimedia.org/wikipedia/commons/thumb/c/c4/Walt_Disney_envelope_ca._1921.jpg/220px-Walt_Disney_envelope_ca._1921.jpg',\n",
       " '//upload.wikimedia.org/wikipedia/commons/thumb/4/4d/Newman_Laugh-O-Gram_%281921%29.webm/220px-seek%3D2-Newman_Laugh-O-Gram_%281921%29.webm.jpg',\n",
       " '//upload.wikimedia.org/wikipedia/commons/thumb/0/0d/Trolley_Troubles_poster.jpg/170px-Trolley_Troubles_poster.jpg',\n",
       " '//upload.wikimedia.org/wikipedia/commons/thumb/7/71/Walt_Disney_and_his_cartoon_creation_%22Mickey_Mouse%22_-_National_Board_of_Review_Magazine.jpg/170px-Walt_Disney_and_his_cartoon_creation_%22Mickey_Mouse%22_-_National_Board_of_Review_Magazine.jpg',\n",
       " '//upload.wikimedia.org/wikipedia/en/thumb/4/4e/Steamboat-willie.jpg/170px-Steamboat-willie.jpg']"
      ]
     },
     "metadata": {},
     "execution_count": 16
    }
   ],
   "source": [
    "# Check the list obtained, I will show just the first 10\n",
    "images_url[0:9]"
   ]
  },
  {
   "cell_type": "markdown",
   "metadata": {},
   "source": [
    "#### Retrieve an arbitary Wikipedia page of \"Python\" and create a list of links on that page"
   ]
  },
  {
   "cell_type": "code",
   "execution_count": 17,
   "metadata": {
    "collapsed": true
   },
   "outputs": [],
   "source": [
    "# This is the url you will scrape in this exercise\n",
    "url ='https://en.wikipedia.org/wiki/Python' "
   ]
  },
  {
   "cell_type": "code",
   "execution_count": 18,
   "metadata": {
    "collapsed": true
   },
   "outputs": [
    {
     "output_type": "execute_result",
     "data": {
      "text/plain": [
       "200"
      ]
     },
     "metadata": {},
     "execution_count": 18
    }
   ],
   "source": [
    "# requests.get to scrap the HTML\n",
    "resp = requests.get(url)\n",
    "\n",
    "# Check the response status\n",
    "resp.status_code"
   ]
  },
  {
   "cell_type": "code",
   "execution_count": 19,
   "metadata": {},
   "outputs": [],
   "source": [
    "# Obtain the text from the HTML and parse with BeautifulSoup\n",
    "html = resp.text\n",
    "soup = BeautifulSoup(html, 'html.parser')"
   ]
  },
  {
   "cell_type": "code",
   "execution_count": 20,
   "metadata": {},
   "outputs": [],
   "source": [
    "# Obtain a list of HTML elements that contains the url\n",
    "url_html = soup.findAll('a')\n",
    "\n",
    "# Loop the list and obtain the url of each image (which has the attribute src) and extend to an empty list\n",
    "url_list=[]\n",
    "for i in url_html:\n",
    "    url_list.extend(i.get_attribute_list('href'))"
   ]
  },
  {
   "cell_type": "code",
   "execution_count": 21,
   "metadata": {},
   "outputs": [
    {
     "output_type": "execute_result",
     "data": {
      "text/plain": [
       "[None,\n",
       " '#mw-head',\n",
       " '#searchInput',\n",
       " 'https://en.wiktionary.org/wiki/Python',\n",
       " 'https://en.wiktionary.org/wiki/python',\n",
       " '/wiki/Pythons',\n",
       " '/wiki/Python_(genus)',\n",
       " '#Computing',\n",
       " '#People']"
      ]
     },
     "metadata": {},
     "execution_count": 21
    }
   ],
   "source": [
    "# Check the list obtained, I will show just the first 10\n",
    "url_list[0:9]"
   ]
  },
  {
   "cell_type": "markdown",
   "metadata": {},
   "source": [
    "#### Number of Titles that have changed in the United States Code since its last release point "
   ]
  },
  {
   "cell_type": "code",
   "execution_count": 22,
   "metadata": {
    "collapsed": true
   },
   "outputs": [],
   "source": [
    "# This is the url you will scrape in this exercise\n",
    "url = 'http://uscode.house.gov/download/download.shtml'"
   ]
  },
  {
   "cell_type": "code",
   "execution_count": 23,
   "metadata": {
    "collapsed": true
   },
   "outputs": [
    {
     "output_type": "execute_result",
     "data": {
      "text/plain": [
       "200"
      ]
     },
     "metadata": {},
     "execution_count": 23
    }
   ],
   "source": [
    "# requests.get to scrap the HTML\n",
    "resp = requests.get(url)\n",
    "\n",
    "# Check the response status\n",
    "resp.status_code"
   ]
  },
  {
   "cell_type": "code",
   "execution_count": 24,
   "metadata": {},
   "outputs": [],
   "source": [
    "# Obtain the text from the HTML and parse with BeautifulSoup\n",
    "html = resp.text\n",
    "soup = BeautifulSoup(html, 'html.parser')"
   ]
  },
  {
   "cell_type": "code",
   "execution_count": 25,
   "metadata": {},
   "outputs": [],
   "source": [
    "# Obtain a list of HTML elements that contains the url\n",
    "tit_changed = soup.findAll('div', attrs={'class':'usctitlechanged'})\n",
    "\n",
    "# Loop the list and obtain the name of each title and append to an empty list\n",
    "titles_changed=[]\n",
    "for i in tit_changed:\n",
    "    titles_changed.append(i.text.strip())"
   ]
  },
  {
   "cell_type": "code",
   "execution_count": 26,
   "metadata": {},
   "outputs": [
    {
     "output_type": "execute_result",
     "data": {
      "text/plain": [
       "['Title 10 - Armed Forces ٭',\n",
       " \"Title 38 - Veterans' Benefits ٭\",\n",
       " 'Title 42 - The Public Health and Welfare',\n",
       " 'Title 50 - War and National Defense']"
      ]
     },
     "metadata": {},
     "execution_count": 26
    }
   ],
   "source": [
    "# Check the list obtained\n",
    "titles_changed"
   ]
  },
  {
   "cell_type": "markdown",
   "metadata": {},
   "source": [
    "#### A Python list with the top ten FBI's Most Wanted names "
   ]
  },
  {
   "cell_type": "code",
   "execution_count": 27,
   "metadata": {
    "collapsed": true
   },
   "outputs": [],
   "source": [
    "# This is the url you will scrape in this exercise\n",
    "url = 'https://www.fbi.gov/wanted/topten'"
   ]
  },
  {
   "cell_type": "code",
   "execution_count": 28,
   "metadata": {
    "collapsed": true
   },
   "outputs": [
    {
     "output_type": "execute_result",
     "data": {
      "text/plain": [
       "200"
      ]
     },
     "metadata": {},
     "execution_count": 28
    }
   ],
   "source": [
    "# requests.get to scrap the HTML\n",
    "resp = requests.get(url)\n",
    "\n",
    "# Check the response status\n",
    "resp.status_code"
   ]
  },
  {
   "cell_type": "code",
   "execution_count": 29,
   "metadata": {},
   "outputs": [],
   "source": [
    "# Obtain the text from the HTML and parse with BeautifulSoup\n",
    "html = resp.text\n",
    "soup = BeautifulSoup(html, 'html.parser')"
   ]
  },
  {
   "cell_type": "code",
   "execution_count": 30,
   "metadata": {},
   "outputs": [],
   "source": [
    "# Obtain a list of HTML elements that contains the titles\n",
    "mostwanted= soup.findAll('h3', attrs={'class':'title'})\n",
    "\n",
    "# Loop the list and obtain the name of each wanted name and append to an empty list\n",
    "mostwanted_names=[]\n",
    "for i in mostwanted:\n",
    "    mostwanted_names.append(i.text.strip())"
   ]
  },
  {
   "cell_type": "code",
   "execution_count": 31,
   "metadata": {},
   "outputs": [
    {
     "output_type": "execute_result",
     "data": {
      "text/plain": [
       "['BHADRESHKUMAR CHETANBHAI PATEL',\n",
       " 'ROBERT WILLIAM FISHER',\n",
       " 'ALEJANDRO ROSALES CASTILLO',\n",
       " 'ARNOLDO JIMENEZ',\n",
       " 'JASON DEREK BROWN',\n",
       " 'ALEXIS FLORES',\n",
       " 'JOSE RODOLFO VILLARREAL-HERNANDEZ',\n",
       " 'EUGENE PALMER',\n",
       " 'RAFAEL CARO-QUINTERO',\n",
       " 'YASER ABDEL SAID']"
      ]
     },
     "metadata": {},
     "execution_count": 31
    }
   ],
   "source": [
    "# Check the list obtained\n",
    "mostwanted_names"
   ]
  },
  {
   "cell_type": "markdown",
   "metadata": {},
   "source": [
    "####  20 latest earthquakes info (date, time, latitude, longitude and region name) by the EMSC as a pandas dataframe"
   ]
  },
  {
   "cell_type": "code",
   "execution_count": 32,
   "metadata": {
    "collapsed": true
   },
   "outputs": [],
   "source": [
    "# This is the url you will scrape in this exercise\n",
    "url = 'https://www.emsc-csem.org/Earthquake/'"
   ]
  },
  {
   "cell_type": "code",
   "execution_count": 33,
   "metadata": {
    "collapsed": true
   },
   "outputs": [
    {
     "output_type": "execute_result",
     "data": {
      "text/plain": [
       "200"
      ]
     },
     "metadata": {},
     "execution_count": 33
    }
   ],
   "source": [
    "# requests.get to scrap the HTML\n",
    "resp = requests.get(url)\n",
    "\n",
    "# Check the response status\n",
    "resp.status_code#your code"
   ]
  },
  {
   "cell_type": "code",
   "execution_count": 34,
   "metadata": {},
   "outputs": [],
   "source": [
    "# Obtain the text from the HTML and parse with BeautifulSoup\n",
    "html = resp.text\n",
    "soup = BeautifulSoup(html, 'html.parser')"
   ]
  },
  {
   "cell_type": "code",
   "execution_count": 35,
   "metadata": {},
   "outputs": [],
   "source": [
    "# Get date and time from the same element b, splitting them and appending them in lists\n",
    "date=[]\n",
    "time=[]\n",
    "date_time = soup.findAll('b')\n",
    "for i in range(20):\n",
    "    date.append(date_time[i].find('a').text.split('\\xa0\\xa0\\xa0')[0])\n",
    "    time.append(date_time[i].find('a').text.split('\\xa0\\xa0\\xa0')[1])\n",
    "\n",
    "# Get the latitude and longitude, each element has diferent elements: numbers (element td with class tabev1) and cardinality (element td with class tabev1). I obtain them separately and zip them into the same list.\n",
    "latitude=[]\n",
    "latitude1=[]\n",
    "latitude2=[]\n",
    "longitude=[]\n",
    "longitude1=[]\n",
    "longitude2=[]\n",
    "lat_lon = soup.findAll('td', attrs={'class':'tabev1'})\n",
    "lat_lon2 = soup.findAll('td', attrs={'class':'tabev2'})\n",
    "for i in range(0,40,2):\n",
    "    latitude1.append(lat_lon[i].text.strip())\n",
    "for i in range(1,40,2):\n",
    "    longitude1.append(lat_lon[i].text.strip())\n",
    "for i in range(0,60,3):\n",
    "    latitude2.append(lat_lon2[i].text.strip())\n",
    "for i in range(1,60,3):\n",
    "    longitude2.append(lat_lon2[i].text.strip())\n",
    "for i,j in zip(latitude1, latitude2):\n",
    "    latitude.append(i+j)\n",
    "for i,j in zip(longitude1, longitude2):\n",
    "    longitude.append(i+j)\n",
    "\n",
    "# Get region from element td with class tb_region, appending it in list\n",
    "region_name=[]\n",
    "rgn_name = soup.findAll('td', attrs={'class':'tb_region'})\n",
    "for i in range(20):\n",
    "    region_name.append(rgn_name[i].text.strip())\n"
   ]
  },
  {
   "cell_type": "code",
   "execution_count": 36,
   "metadata": {},
   "outputs": [],
   "source": [
    "# Create a DataFrame with the information\n",
    "grouped = {'date':date, 'time':time, 'laitude':latitude, 'longitude':longitude, 'region_name': region_name}\n",
    "df = pd.DataFrame(grouped, columns=['date','time','laitude','longitude','region_name'])"
   ]
  },
  {
   "cell_type": "code",
   "execution_count": 37,
   "metadata": {},
   "outputs": [
    {
     "output_type": "execute_result",
     "data": {
      "text/plain": [
       "          date        time laitude longitude                       region_name\n",
       "0   2021-04-15  18:10:08.7  15.10N    93.92W          OFFSHORE CHIAPAS, MEXICO\n",
       "1   2021-04-15  18:05:03.5  35.68N   117.54W               SOUTHERN CALIFORNIA\n",
       "2   2021-04-15  18:04:29.2  38.32N    38.93E                    EASTERN TURKEY\n",
       "3   2021-04-15  17:58:54.9  35.95N     3.87W               STRAIT OF GIBRALTAR\n",
       "4   2021-04-15  17:48:41.2  41.58N    19.53E                      ADRIATIC SEA\n",
       "5   2021-04-15  17:45:05.6  39.30N    26.10E  NEAR THE COAST OF WESTERN TURKEY\n",
       "6   2021-04-15  17:27:52.8  39.30N    26.10E  NEAR THE COAST OF WESTERN TURKEY\n",
       "7   2021-04-15  17:17:04.4  39.29N    26.11E  NEAR THE COAST OF WESTERN TURKEY\n",
       "8   2021-04-15  17:07:31.8  46.26N     7.39E                       SWITZERLAND\n",
       "9   2021-04-15  16:53:26.8  18.92N    68.72W                DOMINICAN REPUBLIC\n",
       "10  2021-04-15  16:42:02.8  51.31N   100.40E     RUSSIA-MONGOLIA BORDER REGION\n",
       "11  2021-04-15  16:41:02.0   2.47S    79.48W             NEAR COAST OF ECUADOR\n",
       "12  2021-04-15  16:36:53.0  11.00N   121.88E                PANAY, PHILIPPINES\n",
       "13  2021-04-15  16:36:19.1  34.78N    24.92E                     CRETE, GREECE\n",
       "14  2021-04-15  16:28:05.0   9.37N   126.60E             MINDANAO, PHILIPPINES\n",
       "15  2021-04-15  16:15:27.8  36.46N    27.04E  DODECANESE IS.-TURKEY BORDER REG\n",
       "16  2021-04-15  16:10:46.0  35.29S    74.13W         OFF COAST OF MAULE, CHILE\n",
       "17  2021-04-15  16:05:02.5  19.15N   155.47W          ISLAND OF HAWAII, HAWAII\n",
       "18  2021-04-15  16:00:15.0   0.08S   128.98E              HALMAHERA, INDONESIA\n",
       "19  2021-04-15  15:35:48.0   0.42N   123.02E     MINAHASA, SULAWESI, INDONESIA"
      ],
      "text/html": "<div>\n<style scoped>\n    .dataframe tbody tr th:only-of-type {\n        vertical-align: middle;\n    }\n\n    .dataframe tbody tr th {\n        vertical-align: top;\n    }\n\n    .dataframe thead th {\n        text-align: right;\n    }\n</style>\n<table border=\"1\" class=\"dataframe\">\n  <thead>\n    <tr style=\"text-align: right;\">\n      <th></th>\n      <th>date</th>\n      <th>time</th>\n      <th>laitude</th>\n      <th>longitude</th>\n      <th>region_name</th>\n    </tr>\n  </thead>\n  <tbody>\n    <tr>\n      <th>0</th>\n      <td>2021-04-15</td>\n      <td>18:10:08.7</td>\n      <td>15.10N</td>\n      <td>93.92W</td>\n      <td>OFFSHORE CHIAPAS, MEXICO</td>\n    </tr>\n    <tr>\n      <th>1</th>\n      <td>2021-04-15</td>\n      <td>18:05:03.5</td>\n      <td>35.68N</td>\n      <td>117.54W</td>\n      <td>SOUTHERN CALIFORNIA</td>\n    </tr>\n    <tr>\n      <th>2</th>\n      <td>2021-04-15</td>\n      <td>18:04:29.2</td>\n      <td>38.32N</td>\n      <td>38.93E</td>\n      <td>EASTERN TURKEY</td>\n    </tr>\n    <tr>\n      <th>3</th>\n      <td>2021-04-15</td>\n      <td>17:58:54.9</td>\n      <td>35.95N</td>\n      <td>3.87W</td>\n      <td>STRAIT OF GIBRALTAR</td>\n    </tr>\n    <tr>\n      <th>4</th>\n      <td>2021-04-15</td>\n      <td>17:48:41.2</td>\n      <td>41.58N</td>\n      <td>19.53E</td>\n      <td>ADRIATIC SEA</td>\n    </tr>\n    <tr>\n      <th>5</th>\n      <td>2021-04-15</td>\n      <td>17:45:05.6</td>\n      <td>39.30N</td>\n      <td>26.10E</td>\n      <td>NEAR THE COAST OF WESTERN TURKEY</td>\n    </tr>\n    <tr>\n      <th>6</th>\n      <td>2021-04-15</td>\n      <td>17:27:52.8</td>\n      <td>39.30N</td>\n      <td>26.10E</td>\n      <td>NEAR THE COAST OF WESTERN TURKEY</td>\n    </tr>\n    <tr>\n      <th>7</th>\n      <td>2021-04-15</td>\n      <td>17:17:04.4</td>\n      <td>39.29N</td>\n      <td>26.11E</td>\n      <td>NEAR THE COAST OF WESTERN TURKEY</td>\n    </tr>\n    <tr>\n      <th>8</th>\n      <td>2021-04-15</td>\n      <td>17:07:31.8</td>\n      <td>46.26N</td>\n      <td>7.39E</td>\n      <td>SWITZERLAND</td>\n    </tr>\n    <tr>\n      <th>9</th>\n      <td>2021-04-15</td>\n      <td>16:53:26.8</td>\n      <td>18.92N</td>\n      <td>68.72W</td>\n      <td>DOMINICAN REPUBLIC</td>\n    </tr>\n    <tr>\n      <th>10</th>\n      <td>2021-04-15</td>\n      <td>16:42:02.8</td>\n      <td>51.31N</td>\n      <td>100.40E</td>\n      <td>RUSSIA-MONGOLIA BORDER REGION</td>\n    </tr>\n    <tr>\n      <th>11</th>\n      <td>2021-04-15</td>\n      <td>16:41:02.0</td>\n      <td>2.47S</td>\n      <td>79.48W</td>\n      <td>NEAR COAST OF ECUADOR</td>\n    </tr>\n    <tr>\n      <th>12</th>\n      <td>2021-04-15</td>\n      <td>16:36:53.0</td>\n      <td>11.00N</td>\n      <td>121.88E</td>\n      <td>PANAY, PHILIPPINES</td>\n    </tr>\n    <tr>\n      <th>13</th>\n      <td>2021-04-15</td>\n      <td>16:36:19.1</td>\n      <td>34.78N</td>\n      <td>24.92E</td>\n      <td>CRETE, GREECE</td>\n    </tr>\n    <tr>\n      <th>14</th>\n      <td>2021-04-15</td>\n      <td>16:28:05.0</td>\n      <td>9.37N</td>\n      <td>126.60E</td>\n      <td>MINDANAO, PHILIPPINES</td>\n    </tr>\n    <tr>\n      <th>15</th>\n      <td>2021-04-15</td>\n      <td>16:15:27.8</td>\n      <td>36.46N</td>\n      <td>27.04E</td>\n      <td>DODECANESE IS.-TURKEY BORDER REG</td>\n    </tr>\n    <tr>\n      <th>16</th>\n      <td>2021-04-15</td>\n      <td>16:10:46.0</td>\n      <td>35.29S</td>\n      <td>74.13W</td>\n      <td>OFF COAST OF MAULE, CHILE</td>\n    </tr>\n    <tr>\n      <th>17</th>\n      <td>2021-04-15</td>\n      <td>16:05:02.5</td>\n      <td>19.15N</td>\n      <td>155.47W</td>\n      <td>ISLAND OF HAWAII, HAWAII</td>\n    </tr>\n    <tr>\n      <th>18</th>\n      <td>2021-04-15</td>\n      <td>16:00:15.0</td>\n      <td>0.08S</td>\n      <td>128.98E</td>\n      <td>HALMAHERA, INDONESIA</td>\n    </tr>\n    <tr>\n      <th>19</th>\n      <td>2021-04-15</td>\n      <td>15:35:48.0</td>\n      <td>0.42N</td>\n      <td>123.02E</td>\n      <td>MINAHASA, SULAWESI, INDONESIA</td>\n    </tr>\n  </tbody>\n</table>\n</div>"
     },
     "metadata": {},
     "execution_count": 37
    }
   ],
   "source": [
    "# Check the DataFrame obtained\n",
    "df"
   ]
  },
  {
   "cell_type": "markdown",
   "metadata": {},
   "source": [
    "#### Count number of tweets by a given Twitter account."
   ]
  },
  {
   "cell_type": "markdown",
   "metadata": {},
   "source": [
    "You will need to include a ***try/except block*** for account names not found. \n",
    "<br>***Hint:*** the program should count the number of tweets for any provided account"
   ]
  },
  {
   "cell_type": "code",
   "execution_count": 39,
   "metadata": {
    "collapsed": true
   },
   "outputs": [],
   "source": [
    "# This is the url you will scrape in this exercise \n",
    "# In this case I will be using Selenium\n",
    "url = 'https://twitter.com/'\n",
    "endpoint = 'FCBarcelona'\n",
    "final_url = url + endpoint"
   ]
  },
  {
   "cell_type": "code",
   "execution_count": 40,
   "metadata": {
    "collapsed": true
   },
   "outputs": [],
   "source": [
    "# driver.get to scrap the HTML\n",
    "driver = webdriver.Firefox()\n",
    "driver.get(final_url)"
   ]
  },
  {
   "cell_type": "code",
   "execution_count": 65,
   "metadata": {},
   "outputs": [
    {
     "output_type": "stream",
     "name": "stdout",
     "text": [
      "This account has 115,4 mil Tweets\n"
     ]
    }
   ],
   "source": [
    "# check the elements by css selector and include a try/block \n",
    "results = driver.find_elements_by_css_selector('div.css-901oao.css-bfa6kz.r-m0bqgq.r-1qd0xha.r-n6v787.r-16dba41.r-1cwl3u0.r-bcqeeo.r-qvutc0')\n",
    "try:\n",
    "    print(f'This account has {results[0].text}')\n",
    "except:\n",
    "    print(f'The account was not found')"
   ]
  },
  {
   "cell_type": "markdown",
   "metadata": {},
   "source": [
    "#### Number of followers of a given twitter account"
   ]
  },
  {
   "cell_type": "markdown",
   "metadata": {},
   "source": [
    "You will need to include a ***try/except block*** in case account/s name not found. \n",
    "<br>***Hint:*** the program should count the followers for any provided account"
   ]
  },
  {
   "cell_type": "code",
   "execution_count": 91,
   "metadata": {
    "collapsed": true
   },
   "outputs": [],
   "source": [
    "# This is the url you will scrape in this exercise \n",
    "# In this case I will be using Selenium\n",
    "url = 'https://twitter.com/'\n",
    "endpoint = 'FCBarcelona'\n",
    "final_url = url + endpoint"
   ]
  },
  {
   "cell_type": "code",
   "execution_count": 92,
   "metadata": {
    "collapsed": true
   },
   "outputs": [
    {
     "output_type": "execute_result",
     "data": {
      "text/plain": [
       "200"
      ]
     },
     "metadata": {},
     "execution_count": 92
    }
   ],
   "source": [
    "# driver.get to scrap the HTML\n",
    "driver = webdriver.Firefox()\n",
    "driver.get(final_url)"
   ]
  },
  {
   "cell_type": "code",
   "execution_count": 67,
   "metadata": {},
   "outputs": [
    {
     "output_type": "stream",
     "name": "stdout",
     "text": [
      "This account has 36,2 M followers\n"
     ]
    }
   ],
   "source": [
    "# check the elements by css selector and include a try/block \n",
    "results = driver.find_elements_by_css_selector('div.r-13awgt0:nth-child(5) > div:nth-child(2) > a:nth-child(1) > span:nth-child(1)')\n",
    "try:\n",
    "    print(f'This account has {results[0].text} followers')\n",
    "except:\n",
    "    print(f'The account was not found')"
   ]
  },
  {
   "cell_type": "markdown",
   "metadata": {},
   "source": [
    "#### List all language names and number of related articles in the order they appear in wikipedia.org"
   ]
  },
  {
   "cell_type": "code",
   "execution_count": 54,
   "metadata": {
    "collapsed": true
   },
   "outputs": [],
   "source": [
    "# This is the url you will scrape in this exercise\n",
    "url = 'https://www.wikipedia.org/'"
   ]
  },
  {
   "cell_type": "code",
   "execution_count": 84,
   "metadata": {
    "collapsed": true
   },
   "outputs": [
    {
     "output_type": "execute_result",
     "data": {
      "text/plain": [
       "200"
      ]
     },
     "metadata": {},
     "execution_count": 84
    }
   ],
   "source": [
    "# requests.get to scrap the HTML\n",
    "resp = requests.get(url)\n",
    "\n",
    "# Check the response status\n",
    "resp.status_code#your code"
   ]
  },
  {
   "cell_type": "code",
   "execution_count": 85,
   "metadata": {},
   "outputs": [],
   "source": [
    "# Obtain the content (no etxt to get the correct encoding) from the HTML and parse with BeautifulSoup\n",
    "html = resp.content\n",
    "soup = BeautifulSoup(html, 'html.parser')"
   ]
  },
  {
   "cell_type": "code",
   "execution_count": 87,
   "metadata": {},
   "outputs": [],
   "source": [
    "# Obtain a list of HTML elements that contains the types of datasets\r\n",
    "lan_wiki = soup.findAll('a', attrs = {'class':{'link-box'}})\r\n",
    "\r\n",
    "# Loop the list and obtain the language and number of articles and append to an empty list\r\n",
    "languages_articles=[]\r\n",
    "for i in lan_wiki:\r\n",
    "    languages_articles.append(i.text.strip().replace('\\xa0','.').split('\\n'))"
   ]
  },
  {
   "cell_type": "code",
   "execution_count": 88,
   "metadata": {},
   "outputs": [
    {
     "output_type": "execute_result",
     "data": {
      "text/plain": [
       "[['English', '6.280.000+ articles'],\n",
       " ['Español', '1.673.000+ artículos'],\n",
       " ['Deutsch', '2.562.000+ Artikel'],\n",
       " ['日本語', '1.263.000+ 記事'],\n",
       " ['Русский', '1.714.000+ статей'],\n",
       " ['Français', '2.317.000+ articles'],\n",
       " ['Italiano', '1.685.000+ voci'],\n",
       " ['中文', '1.190.000+ 條目'],\n",
       " ['Português', '1.065.000+ artigos'],\n",
       " ['Polski', '1.467.000+ haseł']]"
      ]
     },
     "metadata": {},
     "execution_count": 88
    }
   ],
   "source": [
    "# Check the list obtained\n",
    "languages_articles"
   ]
  },
  {
   "cell_type": "markdown",
   "metadata": {},
   "source": [
    "#### A list with the different kind of datasets available in data.gov.uk "
   ]
  },
  {
   "cell_type": "code",
   "execution_count": 44,
   "metadata": {
    "collapsed": true
   },
   "outputs": [],
   "source": [
    "# This is the url you will scrape in this exercise\n",
    "url = 'https://data.gov.uk/'"
   ]
  },
  {
   "cell_type": "code",
   "execution_count": 45,
   "metadata": {
    "collapsed": true
   },
   "outputs": [
    {
     "output_type": "execute_result",
     "data": {
      "text/plain": [
       "200"
      ]
     },
     "metadata": {},
     "execution_count": 45
    }
   ],
   "source": [
    "# requests.get to scrap the HTML\n",
    "resp = requests.get(url)\n",
    "\n",
    "# Check the response status\n",
    "resp.status_code#your code"
   ]
  },
  {
   "cell_type": "code",
   "execution_count": 46,
   "metadata": {},
   "outputs": [],
   "source": [
    "# Obtain the text from the HTML and parse with BeautifulSoup\n",
    "html = resp.text\n",
    "soup = BeautifulSoup(html, 'html.parser')"
   ]
  },
  {
   "cell_type": "code",
   "execution_count": 47,
   "metadata": {},
   "outputs": [],
   "source": [
    "# Obtain a list of HTML elements that contains the types of datasets\n",
    "ds_av = soup.findAll('h3', attrs={'class':'govuk-heading-s dgu-topics__heading'})\n",
    "\n",
    "# Loop the list and obtain the name of each type of dataset and append to an empty list\n",
    "datasets_available=[]\n",
    "for i in ds_av:\n",
    "    datasets_available.append(i.text)"
   ]
  },
  {
   "cell_type": "code",
   "execution_count": 48,
   "metadata": {},
   "outputs": [
    {
     "output_type": "execute_result",
     "data": {
      "text/plain": [
       "['Business and economy',\n",
       " 'Crime and justice',\n",
       " 'Defence',\n",
       " 'Education',\n",
       " 'Environment',\n",
       " 'Government',\n",
       " 'Government spending',\n",
       " 'Health',\n",
       " 'Mapping',\n",
       " 'Society',\n",
       " 'Towns and cities',\n",
       " 'Transport',\n",
       " 'Digital service performance',\n",
       " 'Government reference data']"
      ]
     },
     "metadata": {},
     "execution_count": 48
    }
   ],
   "source": [
    "# Check the list obtained\n",
    "datasets_available"
   ]
  },
  {
   "cell_type": "markdown",
   "metadata": {},
   "source": [
    "#### Top 10 languages by number of native speakers stored in a Pandas Dataframe"
   ]
  },
  {
   "cell_type": "code",
   "execution_count": 49,
   "metadata": {
    "collapsed": true
   },
   "outputs": [],
   "source": [
    "# This is the url you will scrape in this exercise\n",
    "url = 'https://en.wikipedia.org/wiki/List_of_languages_by_number_of_native_speakers'"
   ]
  },
  {
   "cell_type": "code",
   "execution_count": 50,
   "metadata": {
    "collapsed": true
   },
   "outputs": [
    {
     "output_type": "execute_result",
     "data": {
      "text/plain": [
       "200"
      ]
     },
     "metadata": {},
     "execution_count": 50
    }
   ],
   "source": [
    "# requests.get to scrap the HTML\n",
    "resp = requests.get(url)\n",
    "\n",
    "# Check the response status\n",
    "resp.status_code#your code"
   ]
  },
  {
   "cell_type": "code",
   "execution_count": 51,
   "metadata": {},
   "outputs": [],
   "source": [
    "# Obtain the text from the HTML and parse with BeautifulSoup\n",
    "html = resp.text\n",
    "soup = BeautifulSoup(html, 'html.parser')"
   ]
  },
  {
   "cell_type": "code",
   "execution_count": 52,
   "metadata": {},
   "outputs": [],
   "source": [
    "# There are 2 main tables in the HTML and we need the second\n",
    "lan = soup.findAll('table', attrs={'class':'wikitable sortable'})[1]\n",
    "\n",
    "# We capsule all the links in the table, as it is the element where language is\n",
    "lan2 = lan.findAll('a')\n",
    "\n",
    "# Only obtain the languages for those url that starts with /wiki, as there are also url link to cites (which start with cites) and append them to an empty list\n",
    "languages = []\n",
    "for i in lan2:\n",
    "    if (''.join(i.get_attribute_list('href'))).startswith('/wiki'):\n",
    "        languages.append(i.text)\n",
    "\n",
    "# Keep just top 10 languages and create a DataFrame\n",
    "df2 = pd.DataFrame(languages[0:10], columns=['top10languages_native'])"
   ]
  },
  {
   "cell_type": "code",
   "execution_count": 53,
   "metadata": {},
   "outputs": [
    {
     "output_type": "execute_result",
     "data": {
      "text/plain": [
       "  top10languages_native\n",
       "0              Mandarin\n",
       "1               Spanish\n",
       "2               English\n",
       "3                 Hindi\n",
       "4                Arabic\n",
       "5            Portuguese\n",
       "6               Bengali\n",
       "7               Russian\n",
       "8              Japanese\n",
       "9               Punjabi"
      ],
      "text/html": "<div>\n<style scoped>\n    .dataframe tbody tr th:only-of-type {\n        vertical-align: middle;\n    }\n\n    .dataframe tbody tr th {\n        vertical-align: top;\n    }\n\n    .dataframe thead th {\n        text-align: right;\n    }\n</style>\n<table border=\"1\" class=\"dataframe\">\n  <thead>\n    <tr style=\"text-align: right;\">\n      <th></th>\n      <th>top10languages_native</th>\n    </tr>\n  </thead>\n  <tbody>\n    <tr>\n      <th>0</th>\n      <td>Mandarin</td>\n    </tr>\n    <tr>\n      <th>1</th>\n      <td>Spanish</td>\n    </tr>\n    <tr>\n      <th>2</th>\n      <td>English</td>\n    </tr>\n    <tr>\n      <th>3</th>\n      <td>Hindi</td>\n    </tr>\n    <tr>\n      <th>4</th>\n      <td>Arabic</td>\n    </tr>\n    <tr>\n      <th>5</th>\n      <td>Portuguese</td>\n    </tr>\n    <tr>\n      <th>6</th>\n      <td>Bengali</td>\n    </tr>\n    <tr>\n      <th>7</th>\n      <td>Russian</td>\n    </tr>\n    <tr>\n      <th>8</th>\n      <td>Japanese</td>\n    </tr>\n    <tr>\n      <th>9</th>\n      <td>Punjabi</td>\n    </tr>\n  </tbody>\n</table>\n</div>"
     },
     "metadata": {},
     "execution_count": 53
    }
   ],
   "source": [
    "# Check the DataFrame\n",
    "df2"
   ]
  },
  {
   "cell_type": "markdown",
   "metadata": {},
   "source": [
    "### BONUS QUESTIONS"
   ]
  },
  {
   "cell_type": "markdown",
   "metadata": {},
   "source": [
    "#### Scrape a certain number of tweets of a given Twitter account."
   ]
  },
  {
   "cell_type": "code",
   "execution_count": null,
   "metadata": {
    "collapsed": true
   },
   "outputs": [],
   "source": [
    "# This is the url you will scrape in this exercise \n",
    "# You will need to add the account credentials to this url\n",
    "url = 'https://twitter.com/'"
   ]
  },
  {
   "cell_type": "code",
   "execution_count": null,
   "metadata": {
    "collapsed": true
   },
   "outputs": [],
   "source": [
    "# your code"
   ]
  },
  {
   "cell_type": "markdown",
   "metadata": {},
   "source": [
    "#### IMDB's Top 250 data (movie name, Initial release, director name and stars) as a pandas dataframe"
   ]
  },
  {
   "cell_type": "code",
   "execution_count": null,
   "metadata": {
    "collapsed": true
   },
   "outputs": [],
   "source": [
    "# This is the url you will scrape in this exercise \n",
    "url = 'https://www.imdb.com/chart/top'"
   ]
  },
  {
   "cell_type": "code",
   "execution_count": null,
   "metadata": {
    "collapsed": true
   },
   "outputs": [],
   "source": [
    "# your code"
   ]
  },
  {
   "cell_type": "markdown",
   "metadata": {},
   "source": [
    "#### Movie name, year and a brief summary of the top 10 random movies (IMDB) as a pandas dataframe."
   ]
  },
  {
   "cell_type": "code",
   "execution_count": null,
   "metadata": {
    "collapsed": true
   },
   "outputs": [],
   "source": [
    "#This is the url you will scrape in this exercise\n",
    "url = 'http://www.imdb.com/chart/top'"
   ]
  },
  {
   "cell_type": "code",
   "execution_count": null,
   "metadata": {
    "collapsed": true
   },
   "outputs": [],
   "source": [
    "#your code"
   ]
  },
  {
   "cell_type": "markdown",
   "metadata": {},
   "source": [
    "#### Find the live weather report (temperature, wind speed, description and weather) of a given city."
   ]
  },
  {
   "cell_type": "code",
   "execution_count": null,
   "metadata": {
    "collapsed": true
   },
   "outputs": [],
   "source": [
    "#https://openweathermap.org/current\n",
    "city = city=input('Enter the city:')\n",
    "url = 'http://api.openweathermap.org/data/2.5/weather?'+'q='+city+'&APPID=b35975e18dc93725acb092f7272cc6b8&units=metric'"
   ]
  },
  {
   "cell_type": "code",
   "execution_count": null,
   "metadata": {
    "collapsed": true
   },
   "outputs": [],
   "source": [
    "# your code"
   ]
  },
  {
   "cell_type": "markdown",
   "metadata": {},
   "source": [
    "#### Book name,price and stock availability as a pandas dataframe."
   ]
  },
  {
   "cell_type": "code",
   "execution_count": null,
   "metadata": {
    "collapsed": true
   },
   "outputs": [],
   "source": [
    "# This is the url you will scrape in this exercise. \n",
    "# It is a fictional bookstore created to be scraped. \n",
    "url = 'http://books.toscrape.com/'"
   ]
  },
  {
   "cell_type": "code",
   "execution_count": null,
   "metadata": {
    "collapsed": true
   },
   "outputs": [],
   "source": [
    "#your code"
   ]
  }
 ],
 "metadata": {
  "kernelspec": {
   "name": "python383jvsc74a57bd05f23c331dcc0e959a18d97d72b32723b8e8fefc4a029dc171226f15b89161c30",
   "display_name": "Python 3.8.3 32-bit (conda)"
  },
  "language_info": {
   "codemirror_mode": {
    "name": "ipython",
    "version": 3
   },
   "file_extension": ".py",
   "mimetype": "text/x-python",
   "name": "python",
   "nbconvert_exporter": "python",
   "pygments_lexer": "ipython3",
   "version": "3.8.3-final"
  }
 },
 "nbformat": 4,
 "nbformat_minor": 2
}